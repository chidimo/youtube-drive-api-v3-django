{
 "cells": [
  {
   "cell_type": "code",
   "execution_count": 1,
   "metadata": {},
   "outputs": [],
   "source": [
    "from youtube import *"
   ]
  },
  {
   "cell_type": "code",
   "execution_count": 2,
   "metadata": {},
   "outputs": [
    {
     "name": "stdout",
     "output_type": "stream",
     "text": [
      "Variable                 Type        Data/Info\n",
      "----------------------------------------------\n",
      "API_ONLY_YOUTUBE         Resource    <googleapiclient.discover<...>ct at 0x000001DB55D92630>\n",
      "AUTH_YOUTUBE             Resource    <googleapiclient.discover<...>ct at 0x000001DB55EDC9E8>\n",
      "add_video_to_playlist    function    <function add_video_to_pl<...>st at 0x000001DB55EE3730>\n",
      "get_or_create_playlist   function    <function get_or_create_p<...>st at 0x000001DB55EE3620>\n",
      "get_video_information    function    <function get_video_infor<...>on at 0x000001DB55EE3488>\n",
      "get_youtube_video_id     function    <function get_youtube_vid<...>id at 0x000001DB55EB6510>\n"
     ]
    }
   ],
   "source": [
    "whos"
   ]
  },
  {
   "cell_type": "code",
   "execution_count": null,
   "metadata": {},
   "outputs": [],
   "source": []
  }
 ],
 "metadata": {
  "kernelspec": {
   "display_name": "__yt",
   "language": "python",
   "name": "__yt"
  },
  "language_info": {
   "codemirror_mode": {
    "name": "ipython",
    "version": 3
   },
   "file_extension": ".py",
   "mimetype": "text/x-python",
   "name": "python",
   "nbconvert_exporter": "python",
   "pygments_lexer": "ipython3",
   "version": "3.6.4"
  }
 },
 "nbformat": 4,
 "nbformat_minor": 2
}
